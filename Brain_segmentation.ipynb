{
 "cells": [
  {
   "cell_type": "markdown",
   "metadata": {
    "colab": {},
    "colab_type": "code",
    "id": "--f6nwYUsMtB"
   },
   "source": [
    "#     >>>>>>...Brain Segmentation with CNN in MRI images...<<<<<<<\n",
    "                                              Rahul Kumar\n",
    "                                         Mechatronics (1911MT11)\n",
    "                                  Department of Mechanical Engineering\n",
    "                               Indian Institute of Technology, Patna, Bihar."
   ]
  },
  {
   "cell_type": "code",
   "execution_count": 2,
   "metadata": {
    "colab": {
     "base_uri": "https://localhost:8080/",
     "height": 35
    },
    "colab_type": "code",
    "id": "4x4PQfGFhh49",
    "outputId": "5993841d-bce1-45b7-e35d-ba5907368116"
   },
   "outputs": [
    {
     "name": "stdout",
     "output_type": "stream",
     "text": [
      "Drive already mounted at /content/drive; to attempt to forcibly remount, call drive.mount(\"/content/drive\", force_remount=True).\n"
     ]
    }
   ],
   "source": [
    "# Mounting google drive for using the BraTS 2015 training dataset\n",
    "from google.colab import drive      \n",
    "drive.mount('/content/drive')"
   ]
  },
  {
   "cell_type": "code",
   "execution_count": 3,
   "metadata": {
    "colab": {
     "base_uri": "https://localhost:8080/",
     "height": 35
    },
    "colab_type": "code",
    "id": "ms53i2rghDPp",
    "outputId": "4ade0440-0372-4233-89d5-41a14533549d"
   },
   "outputs": [
    {
     "name": "stdout",
     "output_type": "stream",
     "text": [
      "Requirement already satisfied: simpleitk in /usr/local/lib/python3.6/dist-packages (1.2.4)\n"
     ]
    }
   ],
   "source": [
    "pip install simpleitk # Installations Required\n"
   ]
  },
  {
   "cell_type": "code",
   "execution_count": 1,
   "metadata": {
    "colab": {
     "base_uri": "https://localhost:8080/",
     "height": 35
    },
    "colab_type": "code",
    "id": "7KS9QSv8hDPj",
    "outputId": "8db5c862-a1e3-487b-cab9-1e9c3595cb8c"
   },
   "outputs": [
    {
     "name": "stderr",
     "output_type": "stream",
     "text": [
      "Using TensorFlow backend.\n"
     ]
    }
   ],
   "source": [
    "# Imports\n",
    "import tensorflow as tf\n",
    "import numpy as np\n",
    "import pandas as pd\n",
    "import matplotlib.pyplot as plt\n",
    "import random as r\n",
    "from keras import backend as K\n",
    "from utils import create_data, augmentation\n",
    "from Unet_model import  unet_model, dice_coef, dice_coef_loss\n",
    "from Simple_model import simple_model, dice_coef, dice_coef_loss\n"
   ]
  },
  {
   "cell_type": "code",
   "execution_count": 0,
   "metadata": {
    "colab": {},
    "colab_type": "code",
    "id": "5w6f6Jn_DHUp"
   },
   "outputs": [],
   "source": [
    "# Calling GPU\n",
    "import keras.backend.tensorflow_backend as tfback\n",
    "\n",
    "def _get_available_gpus():  \n",
    "\n",
    "    if tfback._LOCAL_DEVICES is None:  \n",
    "        devices = tf.config.list_logical_devices()  \n",
    "        tfback._LOCAL_DEVICES = [x.name for x in devices]  \n",
    "    return [x for x in tfback._LOCAL_DEVICES if 'device:gpu' in x.lower()]\n",
    "\n",
    "tfback._get_available_gpus = _get_available_gpus\n"
   ]
  },
  {
   "cell_type": "code",
   "execution_count": 0,
   "metadata": {
    "colab": {},
    "colab_type": "code",
    "id": "Hd_BD8QDhDPv"
   },
   "outputs": [],
   "source": [
    "# Initialization\n",
    "K.set_image_data_format(\"channels_first\")                          # Input shape in the future will be (batch_size, no_of_channels, img_size, img_size)\n",
    "#K.set_image_dim_ordering(\"th\")\n",
    "img_size = 120      #original img size is 240*240\n",
    "num_epoch = 5\n"
   ]
  },
  {
   "cell_type": "code",
   "execution_count": 0,
   "metadata": {
    "colab": {},
    "colab_type": "code",
    "id": "oq6JcDLUhDP9"
   },
   "outputs": [],
   "source": [
    "# Creating the data for segmented sequences and loading it in y\n",
    "create_data('/content/drive/My Drive/Datasets/BRATS2015_Training/HGG/', '**/*OT*.mha', label=True, resize=(155,img_size,img_size))\n",
    "y = np.load('y_{}.npy'.format(img_size))\n"
   ]
  },
  {
   "cell_type": "code",
   "execution_count": 0,
   "metadata": {
    "colab": {},
    "colab_type": "code",
    "id": "AVUnCJw-hDQC"
   },
   "outputs": [],
   "source": [
    "# Creating the data for T2-flair sequences and loading it in x1\n",
    "create_data('/content/drive/My Drive/Datasets/BRATS2015_Training/HGG/', '**/*Flair*.mha', label=False, resize=(155,img_size,img_size))\n",
    "x1 = np.load('x_{}.npy'.format(img_size))"
   ]
  },
  {
   "cell_type": "code",
   "execution_count": 0,
   "metadata": {
    "colab": {
     "base_uri": "https://localhost:8080/",
     "height": 105
    },
    "colab_type": "code",
    "id": "C01-8ttRIT2u",
    "outputId": "1aa2041f-6bc7-4c01-c74b-f34e886ff605"
   },
   "outputs": [
    {
     "name": "stdout",
     "output_type": "stream",
     "text": [
      "Processing--- **/*T1[^c]*.mha\n"
     ]
    },
    {
     "name": "stderr",
     "output_type": "stream",
     "text": [
      "/usr/local/lib/python3.6/dist-packages/keras_preprocessing/image/numpy_array_iterator.py:136: UserWarning: NumpyArrayIterator is set to use the data format convention \"channels_last\" (channels on axis 3), i.e. expected either 1, 3, or 4 channels on axis 3. However, it was passed an array with shape (1, 1, 32, 32) (32 channels).\n",
      "  str(self.x.shape[channels_axis]) + ' channels).')\n"
     ]
    },
    {
     "name": "stdout",
     "output_type": "stream",
     "text": [
      "Saved 220 to x_32\n"
     ]
    }
   ],
   "source": [
    "# Creating the data for T1 weighted sequences and loading it in x2\n",
    "create_data('/content/drive/My Drive/Datasets/BRATS2015_Training/HGG/', '**/*T1[^c]*.mha', label=False, resize=(155,img_size,img_size))\n",
    "x2 = np.load('x_{}.npy'.format(img_size))"
   ]
  },
  {
   "cell_type": "code",
   "execution_count": 0,
   "metadata": {
    "colab": {
     "base_uri": "https://localhost:8080/",
     "height": 105
    },
    "colab_type": "code",
    "id": "jH6XTBcNIUIK",
    "outputId": "00e8955f-7f62-436d-8162-a89060430728"
   },
   "outputs": [
    {
     "name": "stdout",
     "output_type": "stream",
     "text": [
      "Processing--- **/*T1c*.mha\n"
     ]
    },
    {
     "name": "stderr",
     "output_type": "stream",
     "text": [
      "/usr/local/lib/python3.6/dist-packages/keras_preprocessing/image/numpy_array_iterator.py:136: UserWarning: NumpyArrayIterator is set to use the data format convention \"channels_last\" (channels on axis 3), i.e. expected either 1, 3, or 4 channels on axis 3. However, it was passed an array with shape (1, 1, 32, 32) (32 channels).\n",
      "  str(self.x.shape[channels_axis]) + ' channels).')\n"
     ]
    },
    {
     "name": "stdout",
     "output_type": "stream",
     "text": [
      "Saved 220 to x_32\n"
     ]
    }
   ],
   "source": [
    "# Creating the data for T1c weighted sequences and loading it in x3\n",
    "create_data('/content/drive/My Drive/Datasets/BRATS2015_Training/HGG/', '**/*T1c*.mha', label=False, resize=(155,img_size,img_size))\n",
    "x3 = np.load('x_{}.npy'.format(img_size))"
   ]
  },
  {
   "cell_type": "code",
   "execution_count": 0,
   "metadata": {
    "colab": {
     "base_uri": "https://localhost:8080/",
     "height": 105
    },
    "colab_type": "code",
    "id": "tZC20lA4IUYX",
    "outputId": "3d551bad-8027-43dd-9992-932583ee7cd6"
   },
   "outputs": [
    {
     "name": "stdout",
     "output_type": "stream",
     "text": [
      "Processing--- **/*T2*.mha\n"
     ]
    },
    {
     "name": "stderr",
     "output_type": "stream",
     "text": [
      "/usr/local/lib/python3.6/dist-packages/keras_preprocessing/image/numpy_array_iterator.py:136: UserWarning: NumpyArrayIterator is set to use the data format convention \"channels_last\" (channels on axis 3), i.e. expected either 1, 3, or 4 channels on axis 3. However, it was passed an array with shape (1, 1, 32, 32) (32 channels).\n",
      "  str(self.x.shape[channels_axis]) + ' channels).')\n"
     ]
    },
    {
     "name": "stdout",
     "output_type": "stream",
     "text": [
      "Saved 220 to x_32\n"
     ]
    }
   ],
   "source": [
    "# Creating the data for T2 weighted sequences and loading it in x4\n",
    "create_data('/content/drive/My Drive/Datasets/BRATS2015_Training/HGG/', '**/*T2*.mha', label=False, resize=(155,img_size,img_size))\n",
    "x4 = np.load('x_{}.npy'.format(img_size))"
   ]
  },
  {
   "cell_type": "code",
   "execution_count": 6,
   "metadata": {
    "colab": {
     "base_uri": "https://localhost:8080/",
     "height": 286
    },
    "colab_type": "code",
    "id": "wN-LY4AFhDQI",
    "outputId": "540bb83a-9640-486e-df1c-4c5681cc0601"
   },
   "outputs": [
    {
     "name": "stdout",
     "output_type": "stream",
     "text": [
      "shape of the loaded data is :  (35200, 1, 120, 120) (35200, 1, 120, 120)\n"
     ]
    },
    {
     "data": {
      "image/png": "[encoded data removed]",
      "text/plain": [
       "<Figure size 432x288 with 1 Axes>"
      ]
     },
     "metadata": {
      "needs_background": "light",
      "tags": []
     },
     "output_type": "display_data"
    }
   ],
   "source": [
    "# Summary of the data loaded\n",
    "plt.imshow(x1[0,0,:,:])\n",
    "print(\"shape of the loaded data is : \",y.shape, x1.shape)"
   ]
  },
  {
   "cell_type": "markdown",
   "metadata": {},
   "source": [
    "                                  __These are the four pulse sequences of each patient__\n",
    "![These are the four pulse sequences of each patient](Assets/all.JPG)</br>\n",
    "            _ _ _ _ _ _ _ _ _ _ _ _ _ _ _   This are the 155 slices per MRI pulse sequences._ _ _ _ _ _ _ _ _ _ _ _ _ _ _ \n",
    "![](Assets/slices.gif)"
   ]
  },
  {
   "cell_type": "code",
   "execution_count": 0,
   "metadata": {
    "colab": {
     "base_uri": "https://localhost:8080/",
     "height": 34
    },
    "colab_type": "code",
    "id": "zo8q5Li28VVR",
    "outputId": "cc145d1f-8f5c-4a69-c1c0-f1681c596248"
   },
   "outputs": [
    {
     "name": "stdout",
     "output_type": "stream",
     "text": [
      "shape of the input = (batch_size, no_of_channels, img_size, img_size) (35200, 4, 32, 32)\n"
     ]
    }
   ],
   "source": [
    "# Now creating a variable x for storing all four modalities/sequences/channels in one \n",
    "x = np.zeros((35200, 4, img_size,img_size))\n",
    "x[:,0,:,:] = x1[:,0,:,:]\n",
    "x[:,1,:,:] = x2[:,0,:,:]\n",
    "x[:,2,:,:] = x3[:,0,:,:]\n",
    "x[:,3,:,:] = x4[:,0,:,:]\n",
    "\n",
    "print(\"shape of the input = (batch_size, no_of_channels, img_size, img_size)\", x.shape)\n"
   ]
  },
  {
   "cell_type": "code",
   "execution_count": 31,
   "metadata": {
    "colab": {
     "base_uri": "https://localhost:8080/",
     "height": 235
    },
    "colab_type": "code",
    "id": "Yru0tdT5hDQb",
    "outputId": "c7fb5c49-e77c-4ea8-805c-a0656adb91e6"
   },
   "outputs": [
    {
     "name": "stderr",
     "output_type": "stream",
     "text": [
      "/usr/local/lib/python3.6/dist-packages/ipykernel_launcher.py:4: UserWarning: The `nb_epoch` argument in `fit` has been renamed `epochs`.\n",
      "  after removing the cwd from sys.path.\n"
     ]
    },
    {
     "name": "stdout",
     "output_type": "stream",
     "text": [
      "Epoch 1/5\n",
      "35200/35200 [==============================] - 279s 8ms/step - loss: -0.7025 - dice_coef: 0.7025\n",
      "Epoch 2/5\n",
      "35200/35200 [==============================] - 276s 8ms/step - loss: -0.8633 - dice_coef: 0.8633\n",
      "Epoch 3/5\n",
      "35200/35200 [==============================] - 276s 8ms/step - loss: -0.8863 - dice_coef: 0.8863\n",
      "Epoch 4/5\n",
      "35200/35200 [==============================] - 275s 8ms/step - loss: -0.8975 - dice_coef: 0.8975\n",
      "Epoch 5/5\n",
      "35200/35200 [==============================] - 276s 8ms/step - loss: -0.9156 - dice_coef: 0.9156\n"
     ]
    }
   ],
   "source": [
    "#training on Unet model\n",
    "model = unet_model()\n",
    "history = model.fit(x1, y, batch_size=32 ,nb_epoch= num_epoch, verbose=1, shuffle=True)"
   ]
  },
  {
   "cell_type": "markdown",
   "metadata": {
    "colab_type": "text",
    "id": "K97tGWKghDQg"
   },
   "source": [
    "#### "
   ]
  },
  {
   "cell_type": "code",
   "execution_count": 10,
   "metadata": {
    "colab": {
     "base_uri": "https://localhost:8080/",
     "height": 35
    },
    "colab_type": "code",
    "id": "_2yKoLb3hDQh",
    "outputId": "9e461164-f567-4ef0-fc50-8665275c89e3"
   },
   "outputs": [
    {
     "data": {
      "text/plain": [
       "<tf.Tensor: shape=(), dtype=float32, numpy=0.8450317>"
      ]
     },
     "execution_count": 10,
     "metadata": {
      "tags": []
     },
     "output_type": "execute_result"
    }
   ],
   "source": [
    "# Prediction on Unet model\n",
    "y_pred = model.predict(x1[10000:20000,:,:,:])\n",
    "y_true = y[10000:20000,:,:,:]\n",
    "dice_coef(y_true, y_pred)"
   ]
  },
  {
   "cell_type": "code",
   "execution_count": 20,
   "metadata": {
    "colab": {
     "base_uri": "https://localhost:8080/",
     "height": 1000
    },
    "colab_type": "code",
    "id": "DwyyEkhg9j93",
    "outputId": "05e5be35-6d2b-4ac7-dbdf-782e445bded6"
   },
   "outputs": [
    {
     "name": "stdout",
     "output_type": "stream",
     "text": [
      "Epoch 1/35\n",
      "35200/35200 [==============================] - 52s 1ms/step - loss: -0.1801 - dice_coef: 0.1801\n",
      "Epoch 2/35\n",
      "35200/35200 [==============================] - 52s 1ms/step - loss: -0.2067 - dice_coef: 0.2067\n",
      "Epoch 3/35\n",
      "35200/35200 [==============================] - 52s 1ms/step - loss: -0.2125 - dice_coef: 0.2125\n",
      "Epoch 4/35\n",
      "35200/35200 [==============================] - 52s 1ms/step - loss: -0.2175 - dice_coef: 0.2175\n",
      "Epoch 5/35\n",
      "35200/35200 [==============================] - 52s 1ms/step - loss: -0.2209 - dice_coef: 0.2209\n",
      "Epoch 6/35\n",
      "35200/35200 [==============================] - 52s 1ms/step - loss: -0.2257 - dice_coef: 0.2257\n",
      "Epoch 7/35\n",
      "35200/35200 [==============================] - 52s 1ms/step - loss: -0.2327 - dice_coef: 0.2327\n",
      "Epoch 8/35\n",
      "35200/35200 [==============================] - 52s 1ms/step - loss: -0.2422 - dice_coef: 0.2422\n",
      "Epoch 9/35\n",
      "35200/35200 [==============================] - 52s 1ms/step - loss: -0.2545 - dice_coef: 0.2545\n",
      "Epoch 10/35\n",
      "35200/35200 [==============================] - 52s 1ms/step - loss: -0.2711 - dice_coef: 0.2711\n",
      "Epoch 11/35\n",
      "35200/35200 [==============================] - 52s 1ms/step - loss: -0.2901 - dice_coef: 0.2901\n",
      "Epoch 12/35\n",
      "35200/35200 [==============================] - 52s 1ms/step - loss: -0.3140 - dice_coef: 0.3140\n",
      "Epoch 13/35\n",
      "35200/35200 [==============================] - 52s 1ms/step - loss: -0.3400 - dice_coef: 0.3400\n",
      "Epoch 14/35\n",
      "35200/35200 [==============================] - 52s 1ms/step - loss: -0.3713 - dice_coef: 0.3713\n",
      "Epoch 15/35\n",
      "35200/35200 [==============================] - 52s 1ms/step - loss: -0.3972 - dice_coef: 0.3972\n",
      "Epoch 16/35\n",
      "35200/35200 [==============================] - 52s 1ms/step - loss: -0.4242 - dice_coef: 0.4242\n",
      "Epoch 17/35\n",
      "35200/35200 [==============================] - 52s 1ms/step - loss: -0.4530 - dice_coef: 0.4530\n",
      "Epoch 18/35\n",
      "35200/35200 [==============================] - 52s 1ms/step - loss: -0.4833 - dice_coef: 0.4833\n",
      "Epoch 19/35\n",
      "35200/35200 [==============================] - 52s 1ms/step - loss: -0.5098 - dice_coef: 0.5098\n",
      "Epoch 20/35\n",
      "35200/35200 [==============================] - 52s 1ms/step - loss: -0.5614 - dice_coef: 0.5614\n",
      "Epoch 21/35\n",
      "35200/35200 [==============================] - 51s 1ms/step - loss: -0.6289 - dice_coef: 0.6289\n",
      "Epoch 22/35\n",
      "35200/35200 [==============================] - 52s 1ms/step - loss: -0.7142 - dice_coef: 0.7142\n",
      "Epoch 23/35\n",
      "35200/35200 [==============================] - 52s 1ms/step - loss: -0.7793 - dice_coef: 0.7793\n",
      "Epoch 24/35\n",
      "35200/35200 [==============================] - 52s 1ms/step - loss: -0.8205 - dice_coef: 0.8205\n",
      "Epoch 25/35\n",
      "35200/35200 [==============================] - 51s 1ms/step - loss: -0.8631 - dice_coef: 0.8631\n",
      "Epoch 26/35\n",
      "35200/35200 [==============================] - 51s 1ms/step - loss: -0.8935 - dice_coef: 0.8935\n",
      "Epoch 27/35\n",
      "35200/35200 [==============================] - 51s 1ms/step - loss: -0.9103 - dice_coef: 0.9103\n",
      "Epoch 28/35\n",
      "35200/35200 [==============================] - 51s 1ms/step - loss: -0.9238 - dice_coef: 0.9238\n",
      "Epoch 29/35\n",
      "35200/35200 [==============================] - 51s 1ms/step - loss: -0.9282 - dice_coef: 0.9282\n",
      "Epoch 30/35\n",
      "35200/35200 [==============================] - 51s 1ms/step - loss: -0.9399 - dice_coef: 0.9399\n",
      "Epoch 31/35\n",
      "35200/35200 [==============================] - 51s 1ms/step - loss: -0.9436 - dice_coef: 0.9436\n",
      "Epoch 32/35\n",
      "35200/35200 [==============================] - 52s 1ms/step - loss: -0.9492 - dice_coef: 0.9492\n",
      "Epoch 33/35\n",
      "35200/35200 [==============================] - 52s 1ms/step - loss: -0.9501 - dice_coef: 0.9501\n",
      "Epoch 34/35\n",
      "35200/35200 [==============================] - 52s 1ms/step - loss: -0.9540 - dice_coef: 0.9540\n",
      "Epoch 35/35\n",
      "35200/35200 [==============================] - 52s 1ms/step - loss: -0.9530 - dice_coef: 0.9530\n"
     ]
    }
   ],
   "source": [
    "# Training on Simple Model\n",
    "model = simple_model()\n",
    "history = model.fit(x1, y, batch_size=32, epochs=35, verbose = 1)\n",
    "\n"
   ]
  },
  {
   "cell_type": "code",
   "execution_count": 21,
   "metadata": {
    "colab": {
     "base_uri": "https://localhost:8080/",
     "height": 35
    },
    "colab_type": "code",
    "id": "p7Rr92xeaDKO",
    "outputId": "9c0311fa-c437-4e54-f565-349915f1993c"
   },
   "outputs": [
    {
     "name": "stdout",
     "output_type": "stream",
     "text": [
      "dict_keys(['loss', 'dice_coef'])\n"
     ]
    }
   ],
   "source": [
    "# list all data in history\n",
    "print(history.history.keys())"
   ]
  },
  {
   "cell_type": "code",
   "execution_count": 0,
   "metadata": {
    "colab": {},
    "colab_type": "code",
    "id": "oBt14BB-awsa"
   },
   "outputs": [],
   "source": [
    "# save model and weights\n",
    "model.save('aug{}_{}_epoch{}'.format(num_of_aug,img_size,num_epoch))\n",
    "model.save_weights('weights_{}_{}.h5'.format(img_size,num_epoch))\n",
    "#model.load_weights('weights.h5')"
   ]
  },
  {
   "cell_type": "code",
   "execution_count": 23,
   "metadata": {
    "colab": {
     "base_uri": "https://localhost:8080/",
     "height": 295
    },
    "colab_type": "code",
    "id": "jkA7u-msa1JL",
    "outputId": "0114da9b-6a47-4014-e06d-e752e27ab032"
   },
   "outputs": [
    {
     "data": {
      "image/png": "[encoded data removed]",
      "text/plain": [
       "<Figure size 432x288 with 1 Axes>"
      ]
     },
     "metadata": {
      "needs_background": "light",
      "tags": []
     },
     "output_type": "display_data"
    }
   ],
   "source": [
    "# summarize history for accuracy\n",
    "plt.plot(history.history['dice_coef'])\n",
    "plt.title('model dice_coef per epoch for HGG core')\n",
    "plt.ylabel('dice_coef')\n",
    "plt.xlabel('epoch')\n",
    "plt.show()"
   ]
  },
  {
   "cell_type": "code",
   "execution_count": 24,
   "metadata": {
    "colab": {
     "base_uri": "https://localhost:8080/",
     "height": 35
    },
    "colab_type": "code",
    "id": "Zgh5Z4KH_dtk",
    "outputId": "689e5921-5156-4cb8-bedb-74221e4b58a5"
   },
   "outputs": [
    {
     "data": {
      "text/plain": [
       "<tf.Tensor: shape=(), dtype=float32, numpy=0.84367526>"
      ]
     },
     "execution_count": 24,
     "metadata": {
      "tags": []
     },
     "output_type": "execute_result"
    }
   ],
   "source": [
    "# Prediction on simple model\n",
    "y_pred = model.predict(x1[0:10000,:,:,:])\n",
    "y_true = y[0:10000,:,:,:]\n",
    "dice_coef(y_true, y_pred)"
   ]
  },
  {
   "cell_type": "code",
   "execution_count": 30,
   "metadata": {
    "colab": {
     "base_uri": "https://localhost:8080/",
     "height": 279
    },
    "colab_type": "code",
    "id": "2NfioA03gzVU",
    "outputId": "90eda450-810d-448e-a415-5f5eedd9e05a"
   },
   "outputs": [
    {
     "data": {
      "text/plain": [
       "<matplotlib.image.AxesImage at 0x7f3b308f5c18>"
      ]
     },
     "execution_count": 30,
     "metadata": {
      "tags": []
     },
     "output_type": "execute_result"
    },
    {
     "data": {
      "image/png": "[encoded data removed]",
      "text/plain": [
       "<Figure size 864x576 with 3 Axes>"
      ]
     },
     "metadata": {
      "needs_background": "light",
      "tags": []
     },
     "output_type": "display_data"
    }
   ],
   "source": [
    "# Printing the original MRI slice , segmented slice and predicted segmented slice\n",
    "plt.figure(figsize=(12, 8))\n",
    "plt.subplot(1,3,1)\n",
    "plt.title('Brain MRI sequence')\n",
    "plt.imshow(x1[9530,:].reshape((120,120)))\n",
    "plt.subplot(1,3,2)\n",
    "plt.title('original segmented tumour')\n",
    "plt.imshow(y[9530,0,:,:])\n",
    "plt.subplot(1,3,3)\n",
    "plt.title('predicted segmented tumor')\n",
    "plt.imshow(y_pred[9530,:].reshape((img_size,img_size)))"
   ]
  },
  {
   "cell_type": "code",
   "execution_count": 0,
   "metadata": {
    "colab": {},
    "colab_type": "code",
    "id": "UTXPS68_J-c1"
   },
   "outputs": [],
   "source": []
  }
 ],
 "metadata": {
  "accelerator": "GPU",
  "colab": {
   "collapsed_sections": [],
   "machine_shape": "hm",
   "name": "Brain_segmentation.ipynb",
   "provenance": []
  },
  "kernelspec": {
   "display_name": "Python 3",
   "language": "python",
   "name": "python3"
  },
  "language_info": {
   "codemirror_mode": {
    "name": "ipython",
    "version": 3
   },
   "file_extension": ".py",
   "mimetype": "text/x-python",
   "name": "python",
   "nbconvert_exporter": "python",
   "pygments_lexer": "ipython3",
   "version": "3.7.4"
  }
 },
 "nbformat": 4,
 "nbformat_minor": 1
}
